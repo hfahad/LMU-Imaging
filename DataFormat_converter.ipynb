import numpy as np
import cv2
import SimpleITK as sitk
from pathlib import Path

class ImageProcessor:
    def __init__(self, directory):
        """
        Initializes an ImageProcessor object with the specified directory.

        Args:
            directory (str): Path to the directory containing TIFF files.
        """
        self.directory = directory
        self.train_images = []  # List to store read images
        self.tiff_files = self.collect_tiff_files()  # Collect TIFF files

    def collect_tiff_files(self):
        """
        Collects all TIFF files in the specified directory.

        Returns:
            list: List of pathlib.Path objects representing TIFF files.
        """
        tiff_files = list(Path(self.directory).rglob('*.tif'))
        tiff_files.sort()
        return tiff_files

    def read_images(self):
        """
        Reads images from TIFF files and populates the train_images list.
        """
        for file in self.tiff_files:
            img = cv2.imread(file)
            self.train_images.append(img)

    def resize_images(self):
        """
        Resizes images to a fixed size (1608x1608).

        Returns:
            list: List of resized images.
        """
        vol_list = []
        for i in range(len(self.train_images)):
            resized_img = cv2.resize(self.train_images[i][:, :, 0], (1608, 1608))
            vol_list.append(resized_img)
        return vol_list

    def save_nifti(self, image_list, outputfile):
        """
        Converts a list of images to a NIfTI format and saves it.

        Args:
            image_list (list): List of images.
            outputfile (str): Path to save the NIfTI file.
        """
        sitk_image = sitk.GetImageFromArray(np.array(image_list))
        sitk.WriteImage(sitk_image, outputfile)

if __name__ == "__main__":
    directory_path = "/data/projects/lmuimaging/Rothaemel/9024_A3_NORM_ROI1_120nm_rec_/"
    processor = ImageProcessor(directory_path)
    processor.read_images()
    resized_images = processor.resize_images()
    processor.save_nifti(resized_images[::2], "/file_name.nii")
